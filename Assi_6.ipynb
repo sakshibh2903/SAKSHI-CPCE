{
  "nbformat": 4,
  "nbformat_minor": 0,
  "metadata": {
    "colab": {
      "provenance": []
    },
    "kernelspec": {
      "name": "python3",
      "display_name": "Python 3"
    },
    "language_info": {
      "name": "python"
    }
  },
  "cells": [
    {
      "cell_type": "code",
      "execution_count": null,
      "metadata": {
        "colab": {
          "base_uri": "https://localhost:8080/"
        },
        "id": "7ErK7clieO-l",
        "outputId": "2c3ba696-f2b0-4dd2-bbca-a9ccc3c97206"
      },
      "outputs": [
        {
          "output_type": "stream",
          "name": "stdout",
          "text": [
            "Enter the value of Load in kN: 2500\n",
            "Number of data values of radial distance: 5\n",
            "Depth: 6\n",
            "Enter radial distance in m\n",
            "1\n",
            "'Stress:  30.962130445358056 kN/m^2\n",
            "Enter radial distance in m\n",
            "2\n",
            "'Stress:  25.479163627894877 kN/m^2\n",
            "Enter radial distance in m\n",
            "3\n",
            "'Stress:  18.98033449112347 kN/m^2\n",
            "Enter radial distance in m\n",
            "4\n",
            "'Stress:  13.22290223969301 kN/m^2\n",
            "Enter radial distance in m\n",
            "5\n",
            "'Stress:  8.871775810212231 kN/m^2\n"
          ]
        }
      ],
      "source": [
        "# Stress When depth is constant\n",
        "Q = float (input (\"Enter the value of Load in kN: \"))\n",
        "N = int(input (\"Number of data values of radial distance: \"))\n",
        "pi = 3.14159265359\n",
        "Z = float(input (\"Depth: \"))\n",
        "r = []\n",
        "for i in range (1, N+1):\n",
        "  print(\"Enter radial distance in m\".format (i))\n",
        "  Value_r = float(input () )\n",
        "  r.append(Value_r)\n",
        "  Stress = ((3*Q)/(2*pi*Z*Z) ) * (((1/(1+((Value_r/Z) **2))))**2.5)\n",
        "  print(\"'Stress: \", Stress, \"kN/m^2\")"
      ]
    },
    {
      "cell_type": "code",
      "source": [
        "# Stress when Radius is Constant\n",
        "Q = float (input(\"Enter the value of Load in kN: \"))\n",
        "M= int (input (\"Number of data values of depth: \"))\n",
        "pi = 3.14159265359\n",
        "r = float(input(\"Radial Distance: \"))\n",
        "Z = []\n",
        "for j in range (1, M+1):\n",
        "  print(\"Enter depth in z\".format (j))\n",
        "  Value_Z = float(input ())\n",
        "  Z.append(Value_Z)\n",
        "  Stress = ((3*Q)/(2*pi*Value_Z*Value_Z))*(((1/(1+((r/Value_Z)**2))))**2.5)\n",
        "  print(\"'Stress: \", Stress, \"kN/m^2\")"
      ],
      "metadata": {
        "colab": {
          "base_uri": "https://localhost:8080/"
        },
        "id": "Q9XCGWjPu8Fr",
        "outputId": "2356d1cc-2073-41b4-9eb2-08fb5701fde3"
      },
      "execution_count": null,
      "outputs": [
        {
          "output_type": "stream",
          "name": "stdout",
          "text": [
            "Enter the value of Load in kN: 2500\n",
            "Number of data values of depth: 6\n",
            "Radial Distance: 5\n",
            "Enter depth in z\n",
            "1\n",
            "'Stress:  0.34629643854273023 kN/m^2\n",
            "Enter depth in z\n",
            "2\n",
            "'Stress:  2.1085135063018074 kN/m^2\n",
            "Enter depth in z\n",
            "3\n",
            "'Stress:  4.781320614736756 kN/m^2\n",
            "Enter depth in z\n",
            "4\n",
            "'Stress:  7.0974399578803125 kN/m^2\n",
            "Enter depth in z\n",
            "5\n",
            "'Stress:  8.440465463972316 kN/m^2\n",
            "Enter depth in z\n",
            "6\n",
            "'Stress:  8.871775810212231 kN/m^2\n"
          ]
        }
      ]
    },
    {
      "cell_type": "code",
      "source": [
        "# Calculating the stress by Boussineq's Theory\n",
        "Q= int(input(\"Enter the value of given load :\"))\n",
        "z= int(input(\"Enter the distance of vertical stress :\"))\n",
        "r= int(input(\"Enter the distance ofhorizntal stress:\"))\n",
        "stress = ((3*Q*(1/(1+(r/z)**2)) **2.5))/(2*3.14*(z**2))\n",
        "print(\"The value of stress is\", stress)"
      ],
      "metadata": {
        "colab": {
          "base_uri": "https://localhost:8080/"
        },
        "id": "alleU6Wkx6if",
        "outputId": "34827a8c-63af-4d6d-b761-84cec02b5a8f"
      },
      "execution_count": null,
      "outputs": [
        {
          "output_type": "stream",
          "name": "stdout",
          "text": [
            "Enter the value of given load :2500\n",
            "Enter the distance of vertical stress :6\n",
            "Enter the distance ofhorizntal stress:5\n",
            "The value of stress is 8.876275703713446\n"
          ]
        }
      ]
    }
  ]
}