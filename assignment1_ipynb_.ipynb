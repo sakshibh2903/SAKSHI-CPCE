{
  "nbformat": 4,
  "nbformat_minor": 0,
  "metadata": {
    "colab": {
      "provenance": []
    },
    "kernelspec": {
      "name": "python3",
      "display_name": "Python 3"
    },
    "language_info": {
      "name": "python"
    }
  },
  "cells": [
    {
      "cell_type": "code",
      "source": [
        "#Q2 To find the downstream depth of open channel\n",
        "Q = float(input(\"Enter the value of discharge: \"))\n",
        "B1 = float(input(\"Enter the value of width at upstream: \"))\n",
        "B2 = float(input(\"Enter the value of downstream: \"))\n",
        "g = float(input(\"Enter the value of acceleration due to gravity: \"))\n",
        "y1 = float(input(\"Enter the value of upstream depth: \"))\n",
        "# Discharge per meter width\n",
        "q1 = Q / B1\n",
        "q2 = Q / B2\n",
        "print(\"The value of discharge per meter width is:\", q1)\n",
        "print(\"The value of discharge per meter width is:\", q2)\n",
        "# Area calculation\n",
        "A1 = B1 * y1\n",
        "print(\"The value of upstream is:\", A1)\n",
        "# Calculation of Froude number\n",
        "Fr1 = ((Q * Q * B1) / (g * A1 * A1 * A1)) ** 0.5\n",
        "print(\"The value of Froude number is:\", Fr1)\n",
        "if Fr1 > 1:\n",
        " print(\"The flow is supercritical flow\")\n",
        "else:\n",
        " print(\"The flow is subcritical flow\")\n",
        "# Upstream energy\n",
        "E1 = y1 + ((Q * Q) / (2 * g * A1 * A1))\n",
        "print(\"The value of energy at the initial section is:\",E1)\n",
        "# Calculation of minimum width to avoid choking\n",
        "B2min = ((27 * Q * Q) / (8 * g * E1 * E1 * E1)) ** 0.5\n",
        "print(\"The value of minimum width to be kept to avoid choking is:\", B2min)\n",
        "if B2min > B2:\n",
        " print(\"Choking condition\")\n",
        "else:\n",
        " print(\"SAFE\")\n",
        "# Critical depth\n",
        "yc = ((Q * Q) / (B2 * 82 * g)) ** 0.3333\n",
        "print(\"The value of critical depth is:\", yc)\n",
        "Ec = 1.5 * yc\n",
        "print(\"The value of critical energy is:\", Ec)"
      ],
      "metadata": {
        "colab": {
          "base_uri": "https://localhost:8080/"
        },
        "id": "rHW_RKBbtFfW",
        "outputId": "88eb5439-e2f4-4c3e-f677-a72251905aec"
      },
      "execution_count": null,
      "outputs": [
        {
          "output_type": "stream",
          "name": "stdout",
          "text": [
            "Enter the value of discharge: 15\n",
            "Enter the value of width at upstream: 3.5\n",
            "Enter the value of downstream: 2.5\n",
            "Enter the value of acceleration due to gravity: 9.81\n",
            "Enter the value of upstream depth: 2\n",
            "The value of discharge per meter width is: 4.285714285714286\n",
            "The value of discharge per meter width is: 6.0\n",
            "The value of upstream is: 7.0\n",
            "The value of Froude number is: 0.4837753296275688\n",
            "The flow is subcritical flow\n",
            "The value of energy at the initial section is: 2.234038569556263\n",
            "The value of minimum width to be kept to avoid choking is: 2.634860603070728\n",
            "Choking condition\n",
            "The value of critical depth is: 0.48189408016494045\n",
            "The value of critical energy is: 0.7228411202474107\n"
          ]
        }
      ]
    },
    {
      "cell_type": "code",
      "source": [
        "#Q3\n",
        " #Design of Efficient Channel Section\n",
        "Q= float(input(\"Enter the value of Discharge:\"))\n",
        "n=float(input(\"Enter the value of Rugosity coefficient:\"))\n",
        "So= float (input(\"Enter the value of bed slope:\"))\n",
        "g= float(input(\"Enter the value of acceleration due to Gravity:\"))\n",
        " #Manning's Formula\n",
        "#Q = (AR^2/3 S^1/2)/n\n",
        "yn=((Q*n*50*1.591)/(1.732))**(3/8)\n",
        "print(\"The Value of yn is\", yn)\n",
        "#To encounter the effect of free board\n",
        "yn1= 1.1*yn\n",
        "print(\"The Value of ynl is\", yn1)\n",
        "# Cross Sectional Area\n",
        "A = 1.732*yn*yn1\n",
        "print(\"The cross sectional Area is:\", A)\n",
        "# Top Width\n",
        "T= 4*yn/1.732\n",
        "print(\"The value of top Width is:\", T)\n",
        "# Bottom Width\n",
        "B=2*yn/1.732\n",
        "print(\"The value of Bottom Width is'\", 8)\n",
        "Fr= ((Q*Q*T)/(g*A*A*A)) * 0.5\n",
        "print(\"The value of Froude number is:\", Fr)\n",
        "if Fr>1:\n",
        "    print(\"The flow is Super Critical Flow\")\n",
        "else:\n",
        "    0print(\"The flow is Sub Critical Flow\")"
      ],
      "metadata": {
        "colab": {
          "base_uri": "https://localhost:8080/"
        },
        "id": "lX70YWostbXa",
        "outputId": "5c1608e7-0fcb-4372-ac3b-2b9d25e90119"
      },
      "execution_count": null,
      "outputs": [
        {
          "output_type": "stream",
          "name": "stdout",
          "text": [
            "Enter the value of Discharge:100\n",
            "Enter the value of Rugosity coefficient:0.015\n",
            "Enter the value of bed slope:0.0004\n",
            "Enter the value of acceleration due to Gravity:9.81\n",
            "The Value of yn is 4.89011230647273\n",
            "The Value of ynl is 5.3791235371200035\n",
            "The cross sectional Area is: 45.559425534364046\n",
            "The value of top Width is: 11.293561908713002\n",
            "The value of Bottom Width is' 8\n",
            "The value of Froude number is: 0.0608691470073813\n",
            "The flow is Sub Critical Flow\n"
          ]
        }
      ]
    }
  ]
}