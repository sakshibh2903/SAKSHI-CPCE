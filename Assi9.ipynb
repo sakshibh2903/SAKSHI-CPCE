{
  "nbformat": 4,
  "nbformat_minor": 0,
  "metadata": {
    "colab": {
      "provenance": []
    },
    "kernelspec": {
      "name": "python3",
      "display_name": "Python 3"
    },
    "language_info": {
      "name": "python"
    }
  },
  "cells": [
    {
      "cell_type": "code",
      "execution_count": null,
      "metadata": {
        "colab": {
          "base_uri": "https://localhost:8080/"
        },
        "id": "Fp5PSRguW1Yq",
        "outputId": "52dc8953-2ba1-427a-d45e-74eff119d7c6"
      },
      "outputs": [
        {
          "output_type": "stream",
          "name": "stdout",
          "text": [
            "Decay Coefficient at 20°C: 0.23\n",
            "Temperature at 3rd day BOD: 20\n",
            "Temperature at 7th day BOD: 25\n",
            "The value of K2 is: 0.2893751572825015\n",
            "BOD at 3rd day (mg/L): 50\n",
            "Time in days for B1: 3\n",
            "The value of E is: 0.49838804582143437\n",
            "The ultimate BOD (B_u) is: 100.32343355585682\n",
            "Time in days for B2 (7th day): 7\n",
            "The value of E1 is: 0.8680610647811111\n",
            "The value of B2 is: 87.08686655499413 mg/L\n"
          ]
        }
      ],
      "source": [
        "# To find BOD at 7th day at 25°C\n",
        "# To find Decay Coefficient at 25°C\n",
        "\n",
        "T = float(input(\"Temperature at 3rd day BOD: \"))\n",
        "T1 = float(input(\"Temperature at 7th day BOD: \"))\n",
        "\n",
        "# Calculate decay coefficient for 25°C\n",
        "K2 = K1 * (1.047 ** (T1 - T))\n",
        "print(\"The value of K2 is:\", K2)\n",
        "\n",
        "# To find Ultimate BOD\n",
        "B1 = float(input(\"BOD at 3rd day (mg/L): \"))\n",
        "t = float(input(\"Time in days for B1: \"))\n",
        "\n",
        "# Calculate E for BOD at 3rd day\n",
        "E = (1 - 2.718 ** (-K1 * t))\n",
        "print(\"The value of E is:\", E)\n",
        "\n",
        "# Ultimate BOD calculation\n",
        "B_u = B1 / E\n",
        "print(\"The ultimate BOD (B_u) is:\", B_u)\n",
        "\n",
        "# To find BOD at 7th day at 25°C\n",
        "t1 = float(input(\"Time in days for B2 (7th day): \"))\n",
        "\n",
        "# Calculate E1 for BOD at 7th day with adjusted decay coefficient K2\n",
        "E1 = (1 - 2.718 ** (-K2 * t1))\n",
        "print(\"The value of E1 is:\", E1)\n",
        "\n",
        "# Calculate BOD at 7th day\n",
        "B2 = B_u * E1\n",
        "print(\"The value of B2 is:\", B2, \"mg/L\")\n"
      ]
    },
    {
      "cell_type": "code",
      "source": [
        "# Determination of density of sludge removed from aeration tank\n",
        "\n",
        "# Input values\n",
        "M = float(input(\"Enter the value of initial mass (kg): \"))  # Initial mass in kg\n",
        "S = float(input(\"Enter the value of solid containing sludge in percentage (%): \"))  # Percentage\n",
        "Gs = float(input(\"Enter the value of specific gravity of sludge solids: \"))  # Specific gravity\n",
        "Rho_W = float(input(\"Enter the value of density of water (kg/m^3): \"))  # Density of water\n",
        "\n",
        "# Calculate mass of solid content in sludge\n",
        "Ws = (S / 100) * M  # Corrected calculation to get mass of solids\n",
        "m = M - Ws  # Mass of water\n",
        "print(\"The value of mass of water:\", m)\n",
        "\n",
        "# Volume of water\n",
        "Vw = m / Rho_W\n",
        "print(\"The Value of Volume of water:\", Vw)\n",
        "\n",
        "# Density of solid content in sludge\n",
        "Rho_S = Gs * Rho_W\n",
        "print(\"The value of Density of solid content in sludge:\", Rho_S)\n",
        "\n",
        "# Volume of solid content in sludge\n",
        "Vs = Ws / Rho_S\n",
        "print(\"The value of volume of solid content in sludge:\", Vs)\n",
        "\n",
        "# Total volume of the sludge mixture\n",
        "Vt = Vw + Vs\n",
        "print(\"The value of total volume of solid content in sludge:\", Vt)\n",
        "\n",
        "# Density of sludge removed from aeration\n",
        "Rho_SL = M / Vt\n",
        "print(\"The value of Density of sludge removed from aeration:\", Rho_SL)\n"
      ],
      "metadata": {
        "colab": {
          "base_uri": "https://localhost:8080/"
        },
        "id": "kLbbuyT-dCGU",
        "outputId": "591801c0-0b1e-4408-b0ca-1a8e909f3659"
      },
      "execution_count": null,
      "outputs": [
        {
          "output_type": "stream",
          "name": "stdout",
          "text": [
            "Enter the value of initial mass (kg): 100\n",
            "Enter the value of solid containing sludge in percentage (%): 2\n",
            "Enter the value of specific gravity of sludge solids: 2.2\n",
            "Enter the value of density of water (kg/m^3): 1000\n",
            "The value of mass of water: 98.0\n",
            "The Value of Volume of water: 0.098\n",
            "The value of Density of solid content in sludge: 2200.0\n",
            "The value of volume of solid content in sludge: 0.0009090909090909091\n",
            "The value of total volume of solid content in sludge: 0.09890909090909092\n",
            "The value of Density of sludge removed from aeration: 1011.0294117647057\n"
          ]
        }
      ]
    }
  ]
}